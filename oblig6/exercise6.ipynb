{
 "cells": [
  {
   "cell_type": "markdown",
   "source": [
    "# Weka machine learning toolkit\n",
    "\n",
    "* [Download Weka](https://www.cs.waikato.ac.nz/~ml/weka/)\n",
    "* [Data mining with Weka video series](https://www.youtube.com/user/WekaMOOC)\n",
    "\n",
    "# Exercise 6\n",
    "\n",
    "For this exercise you can use either Python with sklearn or Weka.\n",
    "\n",
    "* Using the UCI mushroom dataset from the last exercise, perform a feature selection using a classifier evaluator. Which features are most discriminitave?\n",
    "* Use principal components analysis to construct a reduced space. Which combination of features explain the most variance in the dataset?\n",
    "* Do you see any overlap between the PCA features and those obtained from feature selection?\n"
   ],
   "metadata": {}
  },
  {
   "cell_type": "code",
   "execution_count": 1,
   "source": [
    "import pandas as pd\n",
    "import matplotlib.pyplot as plt\n",
    "from sklearn.feature_selection import SelectKBest\n",
    "from sklearn.feature_selection import chi2\n",
    "from sklearn import decomposition\n",
    "import numpy as np\n",
    "\n",
    "df = pd.read_csv('agaricus-lepiota.csv')\n",
    "labels = df.columns\n",
    "labels = labels[1:labels.size]\n",
    "\n",
    "x,y = pd.get_dummies(df.loc[:,labels]) ,pd.get_dummies(df['edibility'])\n",
    "\n",
    "print(x.shape)\n",
    "\n",
    "skb = SelectKBest(chi2, k=5)\n",
    "skb.fit(x, y)\n",
    "x_new = skb.transform(x)\n",
    "\n",
    "print(x_new.shape)\n",
    "\n",
    "# Fetch the selected feature indices and print the corresponding feature names\n",
    "new_features = np.array(x.columns)[skb.get_support(indices=True)]\n",
    "print(new_features)\n"
   ],
   "outputs": [
    {
     "output_type": "stream",
     "name": "stdout",
     "text": [
      "(8124, 117)\n",
      "(8124, 5)\n",
      "['odor_f' 'odor_n' 'gill-color_b' 'stalk-surface-above-ring_k'\n",
      " 'stalk-surface-below-ring_k']\n"
     ]
    }
   ],
   "metadata": {}
  },
  {
   "cell_type": "code",
   "execution_count": 2,
   "source": [
    "print(\"Original space:\",x.shape)\n",
    "pca = decomposition.PCA(n_components=5)\n",
    "pca.fit(x)\n",
    "xpca = pca.transform(x)\n",
    "\n",
    "print(\"PCA space:\",xpca.shape)"
   ],
   "outputs": [
    {
     "output_type": "stream",
     "name": "stdout",
     "text": [
      "Original space: (8124, 117)\n",
      "PCA space: (8124, 5)\n"
     ]
    }
   ],
   "metadata": {}
  },
  {
   "cell_type": "code",
   "execution_count": 3,
   "source": [
    "#Shows the correlation between the components and the different features\n",
    "comp_correlation = pd.DataFrame(pca.components_,columns=x.columns,index = ['PC-1','PC-2','PC-3', 'PC-4', 'PC-5']) \n",
    "comp_correlation\n"
   ],
   "outputs": [
    {
     "output_type": "execute_result",
     "data": {
      "text/html": [
       "<div>\n",
       "<style scoped>\n",
       "    .dataframe tbody tr th:only-of-type {\n",
       "        vertical-align: middle;\n",
       "    }\n",
       "\n",
       "    .dataframe tbody tr th {\n",
       "        vertical-align: top;\n",
       "    }\n",
       "\n",
       "    .dataframe thead th {\n",
       "        text-align: right;\n",
       "    }\n",
       "</style>\n",
       "<table border=\"1\" class=\"dataframe\">\n",
       "  <thead>\n",
       "    <tr style=\"text-align: right;\">\n",
       "      <th></th>\n",
       "      <th>cap-shape_b</th>\n",
       "      <th>cap-shape_c</th>\n",
       "      <th>cap-shape_f</th>\n",
       "      <th>cap-shape_k</th>\n",
       "      <th>cap-shape_s</th>\n",
       "      <th>cap-shape_x</th>\n",
       "      <th>cap-surface_f</th>\n",
       "      <th>cap-surface_g</th>\n",
       "      <th>cap-surface_s</th>\n",
       "      <th>cap-surface_y</th>\n",
       "      <th>...</th>\n",
       "      <th>population_s</th>\n",
       "      <th>population_v</th>\n",
       "      <th>population_y</th>\n",
       "      <th>habitat_d</th>\n",
       "      <th>habitat_g</th>\n",
       "      <th>habitat_l</th>\n",
       "      <th>habitat_m</th>\n",
       "      <th>habitat_p</th>\n",
       "      <th>habitat_u</th>\n",
       "      <th>habitat_w</th>\n",
       "    </tr>\n",
       "  </thead>\n",
       "  <tbody>\n",
       "    <tr>\n",
       "      <th>PC-1</th>\n",
       "      <td>-0.029239</td>\n",
       "      <td>-0.000004</td>\n",
       "      <td>-0.005119</td>\n",
       "      <td>0.079135</td>\n",
       "      <td>-0.001267</td>\n",
       "      <td>-0.043506</td>\n",
       "      <td>-0.070359</td>\n",
       "      <td>-0.000240</td>\n",
       "      <td>0.040217</td>\n",
       "      <td>0.030381</td>\n",
       "      <td>...</td>\n",
       "      <td>-0.069820</td>\n",
       "      <td>0.173841</td>\n",
       "      <td>-0.062865</td>\n",
       "      <td>-0.075733</td>\n",
       "      <td>-0.052964</td>\n",
       "      <td>0.078021</td>\n",
       "      <td>-0.027595</td>\n",
       "      <td>0.101057</td>\n",
       "      <td>-0.019234</td>\n",
       "      <td>-0.003553</td>\n",
       "    </tr>\n",
       "    <tr>\n",
       "      <th>PC-2</th>\n",
       "      <td>-0.007405</td>\n",
       "      <td>-0.000154</td>\n",
       "      <td>0.042847</td>\n",
       "      <td>-0.066132</td>\n",
       "      <td>-0.001192</td>\n",
       "      <td>0.032036</td>\n",
       "      <td>0.105681</td>\n",
       "      <td>-0.000247</td>\n",
       "      <td>-0.146942</td>\n",
       "      <td>0.041508</td>\n",
       "      <td>...</td>\n",
       "      <td>-0.035995</td>\n",
       "      <td>-0.067724</td>\n",
       "      <td>0.145663</td>\n",
       "      <td>0.024108</td>\n",
       "      <td>0.028910</td>\n",
       "      <td>-0.065976</td>\n",
       "      <td>-0.004061</td>\n",
       "      <td>0.036701</td>\n",
       "      <td>-0.008433</td>\n",
       "      <td>-0.011249</td>\n",
       "    </tr>\n",
       "    <tr>\n",
       "      <th>PC-3</th>\n",
       "      <td>0.050045</td>\n",
       "      <td>0.000311</td>\n",
       "      <td>-0.064406</td>\n",
       "      <td>-0.005018</td>\n",
       "      <td>0.002253</td>\n",
       "      <td>0.016816</td>\n",
       "      <td>0.007510</td>\n",
       "      <td>0.000251</td>\n",
       "      <td>0.147580</td>\n",
       "      <td>-0.155342</td>\n",
       "      <td>...</td>\n",
       "      <td>0.173549</td>\n",
       "      <td>-0.211641</td>\n",
       "      <td>-0.105853</td>\n",
       "      <td>-0.312478</td>\n",
       "      <td>0.299450</td>\n",
       "      <td>-0.017015</td>\n",
       "      <td>0.021143</td>\n",
       "      <td>-0.014923</td>\n",
       "      <td>0.016183</td>\n",
       "      <td>0.007639</td>\n",
       "    </tr>\n",
       "    <tr>\n",
       "      <th>PC-4</th>\n",
       "      <td>-0.094813</td>\n",
       "      <td>-0.000455</td>\n",
       "      <td>0.155310</td>\n",
       "      <td>-0.040607</td>\n",
       "      <td>-0.001064</td>\n",
       "      <td>-0.018371</td>\n",
       "      <td>0.253728</td>\n",
       "      <td>-0.000552</td>\n",
       "      <td>-0.068041</td>\n",
       "      <td>-0.185135</td>\n",
       "      <td>...</td>\n",
       "      <td>-0.022415</td>\n",
       "      <td>-0.023204</td>\n",
       "      <td>0.060855</td>\n",
       "      <td>0.131758</td>\n",
       "      <td>0.105828</td>\n",
       "      <td>-0.039563</td>\n",
       "      <td>-0.083419</td>\n",
       "      <td>-0.048152</td>\n",
       "      <td>-0.032845</td>\n",
       "      <td>-0.033606</td>\n",
       "    </tr>\n",
       "    <tr>\n",
       "      <th>PC-5</th>\n",
       "      <td>0.054887</td>\n",
       "      <td>0.000800</td>\n",
       "      <td>0.127355</td>\n",
       "      <td>0.108533</td>\n",
       "      <td>-0.000244</td>\n",
       "      <td>-0.291329</td>\n",
       "      <td>0.041174</td>\n",
       "      <td>0.000537</td>\n",
       "      <td>0.000585</td>\n",
       "      <td>-0.042296</td>\n",
       "      <td>...</td>\n",
       "      <td>-0.107781</td>\n",
       "      <td>-0.142244</td>\n",
       "      <td>0.061506</td>\n",
       "      <td>-0.040967</td>\n",
       "      <td>-0.034713</td>\n",
       "      <td>0.112639</td>\n",
       "      <td>-0.024657</td>\n",
       "      <td>-0.035432</td>\n",
       "      <td>-0.073084</td>\n",
       "      <td>0.096215</td>\n",
       "    </tr>\n",
       "  </tbody>\n",
       "</table>\n",
       "<p>5 rows × 117 columns</p>\n",
       "</div>"
      ],
      "text/plain": [
       "      cap-shape_b  cap-shape_c  cap-shape_f  cap-shape_k  cap-shape_s  \\\n",
       "PC-1    -0.029239    -0.000004    -0.005119     0.079135    -0.001267   \n",
       "PC-2    -0.007405    -0.000154     0.042847    -0.066132    -0.001192   \n",
       "PC-3     0.050045     0.000311    -0.064406    -0.005018     0.002253   \n",
       "PC-4    -0.094813    -0.000455     0.155310    -0.040607    -0.001064   \n",
       "PC-5     0.054887     0.000800     0.127355     0.108533    -0.000244   \n",
       "\n",
       "      cap-shape_x  cap-surface_f  cap-surface_g  cap-surface_s  cap-surface_y  \\\n",
       "PC-1    -0.043506      -0.070359      -0.000240       0.040217       0.030381   \n",
       "PC-2     0.032036       0.105681      -0.000247      -0.146942       0.041508   \n",
       "PC-3     0.016816       0.007510       0.000251       0.147580      -0.155342   \n",
       "PC-4    -0.018371       0.253728      -0.000552      -0.068041      -0.185135   \n",
       "PC-5    -0.291329       0.041174       0.000537       0.000585      -0.042296   \n",
       "\n",
       "      ...  population_s  population_v  population_y  habitat_d  habitat_g  \\\n",
       "PC-1  ...     -0.069820      0.173841     -0.062865  -0.075733  -0.052964   \n",
       "PC-2  ...     -0.035995     -0.067724      0.145663   0.024108   0.028910   \n",
       "PC-3  ...      0.173549     -0.211641     -0.105853  -0.312478   0.299450   \n",
       "PC-4  ...     -0.022415     -0.023204      0.060855   0.131758   0.105828   \n",
       "PC-5  ...     -0.107781     -0.142244      0.061506  -0.040967  -0.034713   \n",
       "\n",
       "      habitat_l  habitat_m  habitat_p  habitat_u  habitat_w  \n",
       "PC-1   0.078021  -0.027595   0.101057  -0.019234  -0.003553  \n",
       "PC-2  -0.065976  -0.004061   0.036701  -0.008433  -0.011249  \n",
       "PC-3  -0.017015   0.021143  -0.014923   0.016183   0.007639  \n",
       "PC-4  -0.039563  -0.083419  -0.048152  -0.032845  -0.033606  \n",
       "PC-5   0.112639  -0.024657  -0.035432  -0.073084   0.096215  \n",
       "\n",
       "[5 rows x 117 columns]"
      ]
     },
     "metadata": {},
     "execution_count": 3
    }
   ],
   "metadata": {}
  },
  {
   "cell_type": "code",
   "execution_count": 4,
   "source": [
    "dummy_labels = x.columns\n",
    "relevant_features = []\n",
    "\n",
    "\"\"\"\n",
    "Finds the feature in each component with the highest absolute value.\n",
    "Higest value = the highest correlation = most important feature \n",
    "\"\"\"\n",
    "for i in range(len(comp_correlation.to_numpy())):\n",
    "    relevant_features.append(dummy_labels[np.argmax(np.abs(comp_correlation.to_numpy()[i]))])\n",
    "\n",
    "print(relevant_features)\n"
   ],
   "outputs": [
    {
     "output_type": "stream",
     "name": "stdout",
     "text": [
      "['ring-type_p', 'spore-print-color_h', 'habitat_d', 'stalk-shape_t', 'odor_n']\n"
     ]
    }
   ],
   "metadata": {}
  },
  {
   "cell_type": "code",
   "execution_count": 5,
   "source": [
    "#Checks the overlapping features after each demension reduction\n",
    "list(set(relevant_features) & set(new_features)) "
   ],
   "outputs": [
    {
     "output_type": "execute_result",
     "data": {
      "text/plain": [
       "['odor_n']"
      ]
     },
     "metadata": {},
     "execution_count": 5
    }
   ],
   "metadata": {}
  }
 ],
 "metadata": {
  "kernelspec": {
   "name": "python3",
   "display_name": "Python 3.9.7 64-bit ('base': conda)"
  },
  "language_info": {
   "codemirror_mode": {
    "name": "ipython",
    "version": 3
   },
   "file_extension": ".py",
   "mimetype": "text/x-python",
   "name": "python",
   "nbconvert_exporter": "python",
   "pygments_lexer": "ipython3",
   "version": "3.9.7"
  },
  "interpreter": {
   "hash": "1adf79e333c8ffc94f83f991286c18e842f679efb5f30852361b8cb4f0223373"
  }
 },
 "nbformat": 4,
 "nbformat_minor": 5
}